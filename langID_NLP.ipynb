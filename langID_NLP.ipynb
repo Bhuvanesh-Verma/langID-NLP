{
  "nbformat": 4,
  "nbformat_minor": 0,
  "metadata": {
    "colab": {
      "name": "Copy of langID_NLP.ipynb",
      "provenance": [],
      "include_colab_link": true
    },
    "kernelspec": {
      "name": "python3",
      "display_name": "Python 3"
    }
  },
  "cells": [
    {
      "cell_type": "markdown",
      "metadata": {
        "id": "view-in-github",
        "colab_type": "text"
      },
      "source": [
        "<a href=\"https://colab.research.google.com/github/Dagobert42/langID-NLP/blob/main/langID_NLP.ipynb\" target=\"_parent\"><img src=\"https://colab.research.google.com/assets/colab-badge.svg\" alt=\"Open In Colab\"/></a>"
      ]
    },
    {
      "cell_type": "code",
      "metadata": {
        "id": "Kt1fyVMmyyc5"
      },
      "source": [
        "import numpy as np\r\n",
        "import pandas as pd\r\n",
        "import matplotlib.pyplot as plt\r\n",
        "import string\r\n",
        "import re\r\n",
        "from nltk import ngrams\r\n",
        "from collections import defaultdict\r\n",
        "import nltk\r\n",
        "import collections\r\n",
        "import torch"
      ],
      "execution_count": 5,
      "outputs": []
    },
    {
      "cell_type": "code",
      "metadata": {
        "id": "zcHt-U5X0Qk0"
      },
      "source": [
        "# read data\r\n",
        "# this was written for the WiLI-2018 data set: https://zenodo.org/record/841984\r\n",
        "# make sure txt-files are in the specified directory when running this \r\n",
        "X_train = open('x_train.txt', encoding=\"utf8\").read().split('\\n')\r\n",
        "Y_train = open('y_train.txt', encoding=\"utf8\").read().split('\\n')\r\n",
        "labels = pd.read_csv('labels.csv', delimiter = ';')\r\n",
        "Y_train =  Y_train[:-1]\r\n",
        "X_train =  X_train[:-1]"
      ],
      "execution_count": 6,
      "outputs": []
    },
    {
      "cell_type": "code",
      "metadata": {
        "id": "lgaeru6_AWpW"
      },
      "source": [
        "# remove unnecessary characters from data\r\n",
        "extras = '!\"$%&/{}[]()=?\\\\`´*+~#-_.:,;<>|1234567890°-\\'' # Characters to remove from data\r\n",
        "rx = '[' + re.escape(''.join(extras)) + ']'\r\n",
        "x_train = [] \r\n",
        "for example in X_train:\r\n",
        "    x_train.append(re.sub(' +', ' ', re.sub(rx, '', example)))"
      ],
      "execution_count": 7,
      "outputs": []
    },
    {
      "cell_type": "code",
      "metadata": {
        "id": "Dh1WIZ_bAkZA"
      },
      "source": [
        "# convert language labels to language Name => 'en' -> 'English'\r\n",
        "lab_dict = { labels.loc[i]['Label'] : labels.loc[i]['English'] for i in range(0, len(labels)) }\r\n",
        "y_train = [ lab_dict[item] if item != 'nan' else 'Min Nan Chinese' for item in Y_train ]"
      ],
      "execution_count": 8,
      "outputs": []
    },
    {
      "cell_type": "code",
      "metadata": {
        "id": "jNBMCn3bA078"
      },
      "source": [
        "# collecting examples belonging to same language\r\n",
        "# lang_2_ex = { 'English' : [ 'Welcome to ..', 'PHP sucks ...', ...] , 'Spanish' : ['dads....', 'dasdsa...',....] , ....}\r\n",
        "lang_2_ex = defaultdict(list)\r\n",
        "for i in range(len(x_train)):\r\n",
        "    lang_2_ex[y_train[i]].append(x_train[i])"
      ],
      "execution_count": 9,
      "outputs": []
    },
    {
      "cell_type": "code",
      "metadata": {
        "id": "y_gdP0c8ZGtJ"
      },
      "source": [
        "# creating n-grams for each language \r\n",
        "n = 3 # beginning with trigrams\r\n",
        "gram_per_lang = defaultdict(list)\r\n",
        "uniq_lang = set(y_train)\r\n",
        "for lang in uniq_lang:\r\n",
        "    for sent in lang_2_ex[lang]:\r\n",
        "        gram_per_lang[lang] += [sent[i : i+n] for i in range(len(sent)-n+1)]"
      ],
      "execution_count": 10,
      "outputs": []
    },
    {
      "cell_type": "code",
      "metadata": {
        "id": "WT5Bp8t6ZJyz"
      },
      "source": [
        "# calculating term frequency of n-grams per language\r\n",
        "\r\n",
        "tf_per_lang = defaultdict(list)\r\n",
        "for lang in uniq_lang:\r\n",
        "    tf_per_lang[lang] = dict(zip(list(collections.Counter(gram_per_lang[lang]).keys()), list(collections.Counter(gram_per_lang[lang]).values())))"
      ],
      "execution_count": 11,
      "outputs": []
    },
    {
      "cell_type": "code",
      "metadata": {
        "id": "nvnm5TxxZ3UK"
      },
      "source": [
        "# sort term frequency per language \r\n",
        "\r\n",
        "sorted_tf_per_lang = defaultdict(list)\r\n",
        "for lang in uniq_lang:\r\n",
        "    sorted_tf_per_lang[lang] = {word : value for word, value in sorted(tf_per_lang[lang].items(), key=lambda item : item[1], reverse=True)}"
      ],
      "execution_count": 12,
      "outputs": []
    },
    {
      "cell_type": "code",
      "metadata": {
        "id": "T2m7X2FGbQwM",
        "colab": {
          "base_uri": "https://localhost:8080/"
        },
        "outputId": "ca8d9d2d-9d22-4907-9bc4-50068f1918bd"
      },
      "source": [
        "# print some examples\n",
        "languages = ['German', 'English', 'Arabic', 'Japanese', 'Armenian']\n",
        "n_examples = 10\n",
        "for lang_key in languages:\n",
        "    print(lang_key)\n",
        "    print(list(sorted_tf_per_lang[lang_key].keys())[:n_examples])\n",
        "    print(list(sorted_tf_per_lang[lang_key].values())[:n_examples])"
      ],
      "execution_count": 19,
      "outputs": [
        {
          "output_type": "stream",
          "text": [
            "German\n",
            "['en ', 'er ', ' de', 'der', 'sch', 'ie ', 'che', 'nd ', 'ein', 'ch ']\n",
            "[3915, 3021, 2241, 1655, 1473, 1336, 1184, 1175, 1101, 1073]\n",
            "English\n",
            "[' th', 'he ', 'the', 'ed ', ' in', ' an', 'nd ', 'and', ' of', 'of ']\n",
            "[2838, 2765, 2569, 1660, 1371, 1326, 1287, 1277, 1240, 1182]\n",
            "Arabic\n",
            "[' ال', 'الم', 'ية ', 'في ', ' في', 'ة ا', ' من', 'من ', 'ن ا', 'ات ']\n",
            "[8365, 1595, 1468, 1441, 1424, 1378, 1168, 1086, 1084, 937]\n",
            "Japanese\n",
            "['ている', 'いる。', 'である', 'ある。', 'された', 'った。', 'として', 'れてい', 'してい', 'ていた']\n",
            "[344, 263, 256, 237, 231, 226, 220, 186, 185, 182]\n",
            "Armenian\n",
            "['ում', 'ան ', 'ակա', 'ներ', 'ւմ ', 'կան', 'ին ', 'ութ', 'ուն', 'ւթյ']\n",
            "[2006, 1889, 1633, 1531, 1516, 1467, 1383, 1345, 1331, 1207]\n"
          ],
          "name": "stdout"
        }
      ]
    }
  ]
}